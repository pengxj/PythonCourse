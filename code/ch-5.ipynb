{
 "cells": [
  {
   "cell_type": "code",
   "execution_count": 14,
   "metadata": {},
   "outputs": [
    {
     "name": "stdout",
     "output_type": "stream",
     "text": [
      "1 1 2 3 5 8 13 21 34 55 89 144 233 377 610 987 \n",
      "16\n",
      "None\n"
     ]
    }
   ],
   "source": [
    "'''函数设计与使用'''\n",
    "def fib(n):\n",
    "    '''输入n,输出小于n的斐波那契数列'''\n",
    "    def countfib(f):\n",
    "        print(len(f))\n",
    "        \n",
    "    fb = []    \n",
    "    a, b = 1, 1\n",
    "    while a < n:\n",
    "        print(a, end=' ')\n",
    "        fb.append(a)\n",
    "        a, b = b, a+b\n",
    "    print()\n",
    "    countfib(fb)\n",
    "    return \n",
    "  \n",
    "b = fib(1000)\n",
    "print(b)"
   ]
  },
  {
   "cell_type": "code",
   "execution_count": 7,
   "metadata": {},
   "outputs": [
    {
     "data": {
      "text/plain": [
       "[2, 2, 6, 5]"
      ]
     },
     "execution_count": 7,
     "metadata": {},
     "output_type": "execute_result"
    }
   ],
   "source": [
    "#-------改变形参内容\n",
    "def modify(a):\n",
    "    a[0] += 1\n",
    "    a[2] += 3\n",
    "    a.append(5)\n",
    "    \n",
    "lst = [1,2,3]\n",
    "modify(lst)\n",
    "lst"
   ]
  },
  {
   "cell_type": "code",
   "execution_count": 9,
   "metadata": {},
   "outputs": [
    {
     "name": "stdout",
     "output_type": "stream",
     "text": [
      "18 Li Si male\n",
      "Li Si 18 male\n",
      "['a']\n",
      "['b']\n"
     ]
    }
   ],
   "source": [
    "#-------位置参数和默认参数\n",
    "def who(name, age, sex='male'):\n",
    "    print(name, age, sex)\n",
    "\n",
    "# who('Zhang San', 20, sex='waixingren')\n",
    "who(18, 'Li Si')\n",
    "who(age=18, name='Li Si')\n",
    "\n",
    "def demo(newitem,old_list=None):\n",
    "    if old_list is None:\n",
    "        old_list=[]\n",
    "\n",
    "    old_list.append(newitem)\n",
    "    return old_list\n",
    "\n",
    "print(demo('a'))\n",
    "print(demo('b'))\n"
   ]
  },
  {
   "cell_type": "code",
   "execution_count": 10,
   "metadata": {},
   "outputs": [
    {
     "name": "stdout",
     "output_type": "stream",
     "text": [
      "[1, 2, 3, 4, '5']\n",
      "['a', 'b', 'aaa']\n",
      "['a']\n",
      "['a', 'b']\n"
     ]
    }
   ],
   "source": [
    "def demo(newitem,old_list=[]):\n",
    "    old_list.append(newitem)\n",
    "    return old_list\n",
    "\n",
    "print(demo('5',[1,2,3,4]))\n",
    "print(demo('aaa',['a','b']))\n",
    "print(demo('a'))\n",
    "print(demo('b'))\n"
   ]
  },
  {
   "cell_type": "code",
   "execution_count": 12,
   "metadata": {},
   "outputs": [
    {
     "name": "stdout",
     "output_type": "stream",
     "text": [
      "Li Si 20\n",
      "('male', 'guangdong')\n",
      "Zhang San 20\n",
      "{'sex': 'female', 'u': 'SZTU', 'home': 'Guangdong'}\n",
      "Guangdong\n"
     ]
    }
   ],
   "source": [
    "#--------可变长度参数\n",
    "def whovar(name, age, *others):\n",
    "    print(name, age)\n",
    "    print(others)\n",
    "\n",
    "whovar('Li Si', 20, 'male', 'guangdong')\n",
    "\n",
    "\n",
    "def whovar2(name, age, **others):\n",
    "    print(name, age)\n",
    "    print(others)\n",
    "    print(others['home'])\n",
    "    \n",
    "whovar2('Zhang San', 20, sex = 'female', u = 'SZTU', home='Guangdong')\n"
   ]
  },
  {
   "cell_type": "code",
   "execution_count": 32,
   "metadata": {},
   "outputs": [
    {
     "name": "stdout",
     "output_type": "stream",
     "text": [
      "10\n",
      "215\n"
     ]
    }
   ],
   "source": [
    "#-------变量作用域\n",
    "x = 215\n",
    "def add(n):    \n",
    "#     global x\n",
    "    x = 5\n",
    "#     x = 5\n",
    "    y = 6\n",
    "    return n+x\n",
    "\n",
    "print(add(5))\n",
    "print(x)\n",
    "# print(y)"
   ]
  },
  {
   "cell_type": "code",
   "execution_count": 34,
   "metadata": {},
   "outputs": [
    {
     "data": {
      "text/plain": [
       "81"
      ]
     },
     "execution_count": 34,
     "metadata": {},
     "output_type": "execute_result"
    }
   ],
   "source": [
    "r = []\n",
    "for x in range(10):\n",
    "    r.append(lambda: x**2)\n",
    "r[0]()\n",
    "r[1]()"
   ]
  },
  {
   "cell_type": "code",
   "execution_count": 17,
   "metadata": {},
   "outputs": [
    {
     "name": "stdout",
     "output_type": "stream",
     "text": [
      "['c.jpg', 'e.jpg']\n"
     ]
    }
   ],
   "source": [
    "def demo(*p):    \n",
    "    return [jpg for jpg in p if jpg.endswith('.jpg')]\n",
    "\n",
    "lst = ['a.txt', 'b.json', 'c.jpg', 'd.png', 'e.jpg']\n",
    "print(demo(*lst))\n",
    "\n",
    "# print(list(map(demo, lst)))"
   ]
  },
  {
   "cell_type": "code",
   "execution_count": null,
   "metadata": {},
   "outputs": [],
   "source": []
  },
  {
   "cell_type": "code",
   "execution_count": null,
   "metadata": {},
   "outputs": [],
   "source": []
  }
 ],
 "metadata": {
  "kernelspec": {
   "display_name": "Python 3",
   "language": "python",
   "name": "python3"
  },
  "language_info": {
   "codemirror_mode": {
    "name": "ipython",
    "version": 3
   },
   "file_extension": ".py",
   "mimetype": "text/x-python",
   "name": "python",
   "nbconvert_exporter": "python",
   "pygments_lexer": "ipython3",
   "version": "3.8.5"
  }
 },
 "nbformat": 4,
 "nbformat_minor": 4
}
