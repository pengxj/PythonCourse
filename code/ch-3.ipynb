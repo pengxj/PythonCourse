{
 "cells": [
  {
   "cell_type": "markdown",
   "metadata": {},
   "source": [
    "## break和continue的使用"
   ]
  },
  {
   "cell_type": "code",
   "execution_count": null,
   "metadata": {},
   "outputs": [],
   "source": [
    "for n in range(100, 1, -1):\n",
    "    if n%2==0:\n",
    "        continue\n",
    "    print(n)\n",
    "    for i in range(2, int(n**0.5)):\n",
    "        if n%i == 0:\n",
    "            break\n",
    "    \n",
    "    if i==int(n**0.5)-1:\n",
    "        print(n)\n",
    "        break\n",
    "#     else:\n",
    "#         print(n)\n",
    "#         break"
   ]
  }
 ],
 "metadata": {
  "kernelspec": {
   "display_name": "Python 3",
   "language": "python",
   "name": "python3"
  },
  "language_info": {
   "codemirror_mode": {
    "name": "ipython",
    "version": 3
   },
   "file_extension": ".py",
   "mimetype": "text/x-python",
   "name": "python",
   "nbconvert_exporter": "python",
   "pygments_lexer": "ipython3",
   "version": "3.8.5"
  }
 },
 "nbformat": 4,
 "nbformat_minor": 4
}
