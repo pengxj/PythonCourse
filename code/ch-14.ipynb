{
 "cells": [
  {
   "cell_type": "code",
   "execution_count": null,
   "metadata": {},
   "outputs": [],
   "source": [
    "import sqlite3\n",
    "conn = sqlite3.connect('example.db')     #连接数据库\n",
    "c = conn.cursor()\n",
    "# 创建表\n",
    "c.execute('CREATE TABLE stocks (date text, trans text, symbol text, qty real, price real)')\n",
    "# 插入一条记录\n",
    "c.execute(\"INSERT INTO stocks VALUES ('2006-01-05','BUY', 'RHAT', 100, 35.14)\")\n",
    "# 提交当前事务，保存数据\n",
    "conn.commit()\n",
    "# 关闭数据库连接\n",
    "conn.close()\n"
   ]
  },
  {
   "cell_type": "code",
   "execution_count": null,
   "metadata": {},
   "outputs": [],
   "source": [
    "conn = sqlite3.connect('example.db')     #连接数据库\n",
    "c = conn.cursor()\n",
    "# c.execute(\"INSERT INTO stocks VALUES ('2006-01-05','BUY', 'RHAT', 80, 32.14)\")\n",
    "# c.execute(\"INSERT INTO stocks VALUES ('2006-01-05','BUY', 'RHAT', 90, 31.14)\")\n",
    "# conn.commit()\n",
    "# for row in c.execute('SELECT * FROM stocks ORDER BY price'):\n",
    "#     print(row)\n",
    "c.execute('SELECT * FROM stocks ORDER BY price')\n",
    "# li = c.fetchall()       #返回所有查询结果\n",
    "# for line in li:\n",
    "#     for item in line:\n",
    "#         print(item, end=' ')\n",
    "#     print()\n",
    "# conn.close()\n",
    "\n",
    "conn.row_factory = sqlite3.Row\n",
    "c = conn.cursor()\n",
    "c.execute('SELECT * FROM stocks')\n",
    "r = c.fetchone()\n",
    "print(type(r))\n",
    "print(tuple(r))\n",
    "print(r[2])\n",
    "print(r.keys())\n",
    "print(r['qty'])\n",
    "for field in r:\n",
    "    print(field)\n"
   ]
  },
  {
   "cell_type": "code",
   "execution_count": 6,
   "metadata": {
    "scrolled": true
   },
   "outputs": [
    {
     "name": "stdout",
     "output_type": "stream",
     "text": [
      "(1, 'Python', 'CS', 'TP391.4', 'Dong', 1)\n",
      "(2, 'ComputerVision', 'CS', 'TP391.2', 'Peng', 0)\n",
      "(3, 'DeepLearning', 'CS', 'TP391.3', 'Peng', 1)\n",
      "(4, 'NeuralNetwork', 'CS', 'TP391.3', 'Peng', 1)\n"
     ]
    }
   ],
   "source": [
    "import pymysql\n",
    "#打开数据库连接\n",
    "conn = pymysql.connect(host='localhost',user = \"pxj\",passwd = \"pxj811112\",db = \"pxj\",port=3306)\n",
    "#获取游标\n",
    "cur=conn.cursor()\n",
    "cur.execute(\"select * from books;\")\n",
    "while 1:\n",
    "    res=cur.fetchone()\n",
    "    if res is None:\n",
    "        #表示已经取完结果集\n",
    "        break\n",
    "    print (res)\n",
    "cur.close()\n",
    "conn.commit()\n",
    "conn.close()"
   ]
  },
  {
   "cell_type": "code",
   "execution_count": null,
   "metadata": {},
   "outputs": [],
   "source": []
  }
 ],
 "metadata": {
  "kernelspec": {
   "display_name": "Python 3",
   "language": "python",
   "name": "python3"
  },
  "language_info": {
   "codemirror_mode": {
    "name": "ipython",
    "version": 3
   },
   "file_extension": ".py",
   "mimetype": "text/x-python",
   "name": "python",
   "nbconvert_exporter": "python",
   "pygments_lexer": "ipython3",
   "version": "3.8.5"
  }
 },
 "nbformat": 4,
 "nbformat_minor": 5
}
