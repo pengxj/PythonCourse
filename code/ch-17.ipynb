{
 "cells": [
  {
   "cell_type": "markdown",
   "metadata": {},
   "source": [
    "## Numpy和matplotlib的使用"
   ]
  },
  {
   "cell_type": "code",
   "execution_count": 1,
   "metadata": {},
   "outputs": [
    {
     "name": "stdout",
     "output_type": "stream",
     "text": [
      "[1 2 3 4 5]\n",
      "[[1 2 3]\n",
      " [4 5 6]]\n"
     ]
    },
    {
     "data": {
      "text/plain": [
       "array([0, 1, 2, 3, 4, 5, 6, 7])"
      ]
     },
     "execution_count": 1,
     "metadata": {},
     "output_type": "execute_result"
    }
   ],
   "source": [
    "import numpy as np\n",
    "import matplotlib.pyplot as plt\n",
    "#========numpy 使用\n",
    "arr_1d = np.array([1, 2, 3, 4, 5])\n",
    "print(arr_1d)\n",
    "arr_2d = np.array([[1, 2, 3], [4, 5, 6]])\n",
    "print(arr_2d)\n",
    "np.arange(8)                     "
   ]
  },
  {
   "cell_type": "code",
   "execution_count": 8,
   "metadata": {},
   "outputs": [
    {
     "data": {
      "text/plain": [
       "array([ 10.,  20.,  30.,  40.,  50.,  60.,  70.,  80.,  90., 100.])"
      ]
     },
     "execution_count": 8,
     "metadata": {},
     "output_type": "execute_result"
    }
   ],
   "source": [
    "np.linspace(10, 100, 10)                 "
   ]
  },
  {
   "cell_type": "code",
   "execution_count": 12,
   "metadata": {},
   "outputs": [
    {
     "data": {
      "text/plain": [
       "array([[0.4, 0. , 0. , 0. ],\n",
       "       [0. , 0.8, 0. , 0. ],\n",
       "       [0. , 0. , 1.2, 0. ],\n",
       "       [0. , 0. , 0. , 1.6]])"
      ]
     },
     "execution_count": 12,
     "metadata": {},
     "output_type": "execute_result"
    }
   ],
   "source": [
    "x = np.diag([1,2,3,4])\n",
    "x*2/5"
   ]
  },
  {
   "cell_type": "code",
   "execution_count": 17,
   "metadata": {},
   "outputs": [
    {
     "data": {
      "text/plain": [
       "array([1, 2, 3])"
      ]
     },
     "execution_count": 17,
     "metadata": {},
     "output_type": "execute_result"
    }
   ],
   "source": [
    "x = np.array([3, 1, 2])\n",
    "x.sort()\n",
    "x\n",
    "# np.argsort(-x)[0]                "
   ]
  },
  {
   "cell_type": "code",
   "execution_count": 23,
   "metadata": {},
   "outputs": [
    {
     "data": {
      "text/plain": [
       "array([[[1, 2, 3]],\n",
       "\n",
       "       [[4, 5, 6]],\n",
       "\n",
       "       [[7, 8, 9]]])"
      ]
     },
     "execution_count": 23,
     "metadata": {},
     "output_type": "execute_result"
    }
   ],
   "source": [
    "a = np.arange(1, 10, 1)\n",
    "a.reshape((3,-1,3))"
   ]
  },
  {
   "cell_type": "code",
   "execution_count": 5,
   "metadata": {},
   "outputs": [
    {
     "name": "stderr",
     "output_type": "stream",
     "text": [
      "C:\\software\\anacoda38\\lib\\site-packages\\matplotlib\\backends\\backend_agg.py:238: RuntimeWarning: Glyph 8722 missing from current font.\n",
      "  font.set_text(s, 0.0, flags=flags)\n",
      "C:\\software\\anacoda38\\lib\\site-packages\\matplotlib\\backends\\backend_agg.py:201: RuntimeWarning: Glyph 8722 missing from current font.\n",
      "  font.set_text(s, 0, flags=flags)\n"
     ]
    },
    {
     "data": {
      "image/png": "[encoded data removed]",
      "text/plain": [
       "<Figure size 432x288 with 1 Axes>"
      ]
     },
     "metadata": {
      "needs_background": "light"
     },
     "output_type": "display_data"
    }
   ],
   "source": [
    "from matplotlib import pyplot as plt\n",
    "import matplotlib\n",
    "matplotlib.rcParams['font.sans-serif'] = ['KaiTi']\n",
    "t = np.arange(0.0, 2.0*np.pi, 0.1)        # 自变量取值范围\n",
    "s = np.sin(t)                              # 计算正弦函数值\n",
    "z = np.cos(t)                              # 计算余弦函数值\n",
    "plt.plot(t, s, label='sin')\n",
    "plt.scatter(t, z, s=20, linewidths=5,marker='+')\n",
    "plt.xlabel('x-变量')        # 设置x标签\n",
    "plt.ylabel('y-正弦余弦函数值')\n",
    "plt.title('sin-cos函数图像')  # 标题\n",
    "plt.legend()                     # 设置图例\n",
    "plt.show()\n"
   ]
  },
  {
   "cell_type": "markdown",
   "metadata": {},
   "source": [
    "## Pandas应用"
   ]
  },
  {
   "cell_type": "code",
   "execution_count": 7,
   "metadata": {},
   "outputs": [
    {
     "data": {
      "text/plain": [
       "0    1.0\n",
       "1    3.0\n",
       "2    5.0\n",
       "3    NaN\n",
       "dtype: float64"
      ]
     },
     "execution_count": 7,
     "metadata": {},
     "output_type": "execute_result"
    }
   ],
   "source": [
    "import pandas as pd\n",
    "import numpy as np\n",
    "#-------1D数组\n",
    "x = pd.Series([1, 3, 5, np.nan])\n",
    "x"
   ]
  },
  {
   "cell_type": "code",
   "execution_count": 8,
   "metadata": {},
   "outputs": [
    {
     "data": {
      "text/html": [
       "<div>\n",
       "<style scoped>\n",
       "    .dataframe tbody tr th:only-of-type {\n",
       "        vertical-align: middle;\n",
       "    }\n",
       "\n",
       "    .dataframe tbody tr th {\n",
       "        vertical-align: top;\n",
       "    }\n",
       "\n",
       "    .dataframe thead th {\n",
       "        text-align: right;\n",
       "    }\n",
       "</style>\n",
       "<table border=\"1\" class=\"dataframe\">\n",
       "  <thead>\n",
       "    <tr style=\"text-align: right;\">\n",
       "      <th></th>\n",
       "      <th>A</th>\n",
       "      <th>B</th>\n",
       "    </tr>\n",
       "  </thead>\n",
       "  <tbody>\n",
       "    <tr>\n",
       "      <th>0</th>\n",
       "      <td>3</td>\n",
       "      <td>4</td>\n",
       "    </tr>\n",
       "    <tr>\n",
       "      <th>1</th>\n",
       "      <td>8</td>\n",
       "      <td>1</td>\n",
       "    </tr>\n",
       "    <tr>\n",
       "      <th>2</th>\n",
       "      <td>3</td>\n",
       "      <td>8</td>\n",
       "    </tr>\n",
       "    <tr>\n",
       "      <th>3</th>\n",
       "      <td>9</td>\n",
       "      <td>2</td>\n",
       "    </tr>\n",
       "    <tr>\n",
       "      <th>4</th>\n",
       "      <td>3</td>\n",
       "      <td>6</td>\n",
       "    </tr>\n",
       "    <tr>\n",
       "      <th>5</th>\n",
       "      <td>10</td>\n",
       "      <td>3</td>\n",
       "    </tr>\n",
       "  </tbody>\n",
       "</table>\n",
       "</div>"
      ],
      "text/plain": [
       "    A  B\n",
       "0   3  4\n",
       "1   8  1\n",
       "2   3  8\n",
       "3   9  2\n",
       "4   3  6\n",
       "5  10  3"
      ]
     },
     "execution_count": 8,
     "metadata": {},
     "output_type": "execute_result"
    }
   ],
   "source": [
    "#----二维数据\n",
    "df = pd.DataFrame({'A':[3,8,3,9,3,10], 'B':[4,1,8,2,6,3]})\n",
    "df"
   ]
  },
  {
   "cell_type": "code",
   "execution_count": 9,
   "metadata": {},
   "outputs": [],
   "source": [
    "#-----2D数组保存\n",
    "dates = pd.date_range(start='20200101', end='20201231', freq='M')\n",
    "df = pd.DataFrame(np.random.randn(12,4), index=dates, columns=list('ABCD')) #12x4矩阵数据\n",
    "# print(df)\n",
    "df.to_excel('test.xlsx',sheet_name='dfg')"
   ]
  },
  {
   "cell_type": "code",
   "execution_count": 10,
   "metadata": {},
   "outputs": [
    {
     "data": {
      "text/html": [
       "<div>\n",
       "<style scoped>\n",
       "    .dataframe tbody tr th:only-of-type {\n",
       "        vertical-align: middle;\n",
       "    }\n",
       "\n",
       "    .dataframe tbody tr th {\n",
       "        vertical-align: top;\n",
       "    }\n",
       "\n",
       "    .dataframe thead th {\n",
       "        text-align: right;\n",
       "    }\n",
       "</style>\n",
       "<table border=\"1\" class=\"dataframe\">\n",
       "  <thead>\n",
       "    <tr style=\"text-align: right;\">\n",
       "      <th></th>\n",
       "      <th>A</th>\n",
       "      <th>B</th>\n",
       "      <th>C</th>\n",
       "      <th>D</th>\n",
       "    </tr>\n",
       "  </thead>\n",
       "  <tbody>\n",
       "    <tr>\n",
       "      <th>2020-01-31</th>\n",
       "      <td>-1.993959</td>\n",
       "      <td>1.507065</td>\n",
       "      <td>1.735092</td>\n",
       "      <td>-1.690061</td>\n",
       "    </tr>\n",
       "    <tr>\n",
       "      <th>2020-02-29</th>\n",
       "      <td>-1.507149</td>\n",
       "      <td>-0.249720</td>\n",
       "      <td>0.522675</td>\n",
       "      <td>3.649258</td>\n",
       "    </tr>\n",
       "    <tr>\n",
       "      <th>2020-03-31</th>\n",
       "      <td>-0.202538</td>\n",
       "      <td>-0.265709</td>\n",
       "      <td>-1.367536</td>\n",
       "      <td>-0.645462</td>\n",
       "    </tr>\n",
       "    <tr>\n",
       "      <th>2020-04-30</th>\n",
       "      <td>0.125077</td>\n",
       "      <td>-0.745277</td>\n",
       "      <td>-0.777247</td>\n",
       "      <td>-0.387858</td>\n",
       "    </tr>\n",
       "    <tr>\n",
       "      <th>2020-05-31</th>\n",
       "      <td>0.617653</td>\n",
       "      <td>-1.000964</td>\n",
       "      <td>-1.871742</td>\n",
       "      <td>-1.896549</td>\n",
       "    </tr>\n",
       "    <tr>\n",
       "      <th>2020-06-30</th>\n",
       "      <td>-1.287447</td>\n",
       "      <td>-0.032961</td>\n",
       "      <td>-0.434256</td>\n",
       "      <td>-0.258074</td>\n",
       "    </tr>\n",
       "    <tr>\n",
       "      <th>2020-07-31</th>\n",
       "      <td>0.444910</td>\n",
       "      <td>0.834490</td>\n",
       "      <td>-1.095043</td>\n",
       "      <td>0.328691</td>\n",
       "    </tr>\n",
       "    <tr>\n",
       "      <th>2020-08-31</th>\n",
       "      <td>0.748235</td>\n",
       "      <td>1.664320</td>\n",
       "      <td>2.035066</td>\n",
       "      <td>-0.043713</td>\n",
       "    </tr>\n",
       "    <tr>\n",
       "      <th>2020-09-30</th>\n",
       "      <td>0.455117</td>\n",
       "      <td>0.815735</td>\n",
       "      <td>1.282019</td>\n",
       "      <td>-0.754472</td>\n",
       "    </tr>\n",
       "    <tr>\n",
       "      <th>2020-10-31</th>\n",
       "      <td>0.764048</td>\n",
       "      <td>0.335829</td>\n",
       "      <td>-1.914312</td>\n",
       "      <td>1.501019</td>\n",
       "    </tr>\n",
       "    <tr>\n",
       "      <th>2020-11-30</th>\n",
       "      <td>-1.331070</td>\n",
       "      <td>-0.151336</td>\n",
       "      <td>1.214257</td>\n",
       "      <td>-1.195149</td>\n",
       "    </tr>\n",
       "    <tr>\n",
       "      <th>2020-12-31</th>\n",
       "      <td>1.000000</td>\n",
       "      <td>-0.669359</td>\n",
       "      <td>-0.442463</td>\n",
       "      <td>0.231521</td>\n",
       "    </tr>\n",
       "  </tbody>\n",
       "</table>\n",
       "</div>"
      ],
      "text/plain": [
       "                   A         B         C         D\n",
       "2020-01-31 -1.993959  1.507065  1.735092 -1.690061\n",
       "2020-02-29 -1.507149 -0.249720  0.522675  3.649258\n",
       "2020-03-31 -0.202538 -0.265709 -1.367536 -0.645462\n",
       "2020-04-30  0.125077 -0.745277 -0.777247 -0.387858\n",
       "2020-05-31  0.617653 -1.000964 -1.871742 -1.896549\n",
       "2020-06-30 -1.287447 -0.032961 -0.434256 -0.258074\n",
       "2020-07-31  0.444910  0.834490 -1.095043  0.328691\n",
       "2020-08-31  0.748235  1.664320  2.035066 -0.043713\n",
       "2020-09-30  0.455117  0.815735  1.282019 -0.754472\n",
       "2020-10-31  0.764048  0.335829 -1.914312  1.501019\n",
       "2020-11-30 -1.331070 -0.151336  1.214257 -1.195149\n",
       "2020-12-31  1.000000 -0.669359 -0.442463  0.231521"
      ]
     },
     "execution_count": 10,
     "metadata": {},
     "output_type": "execute_result"
    }
   ],
   "source": [
    "#------访问\\查询\\修改、删除\n",
    "# df.head(2)\n",
    "# df.tail(3)\n",
    "# df.describe()\n",
    "# df.sort_index(axis=0, ascending=False)\n",
    "# df.loc[:,['A','C']]\n",
    "# df.iloc[1:3]\n",
    "df.at['2020-12-31','A'] = 0\n",
    "df.iat[11,0]=1\n",
    "# df\n",
    "df.drop('A',axis=1)  \n",
    "df"
   ]
  },
  {
   "cell_type": "code",
   "execution_count": 11,
   "metadata": {},
   "outputs": [
    {
     "data": {
      "text/html": [
       "<div>\n",
       "<style scoped>\n",
       "    .dataframe tbody tr th:only-of-type {\n",
       "        vertical-align: middle;\n",
       "    }\n",
       "\n",
       "    .dataframe tbody tr th {\n",
       "        vertical-align: top;\n",
       "    }\n",
       "\n",
       "    .dataframe thead th {\n",
       "        text-align: right;\n",
       "    }\n",
       "</style>\n",
       "<table border=\"1\" class=\"dataframe\">\n",
       "  <thead>\n",
       "    <tr style=\"text-align: right;\">\n",
       "      <th></th>\n",
       "      <th>A</th>\n",
       "      <th>B</th>\n",
       "      <th>C</th>\n",
       "      <th>D</th>\n",
       "      <th>E</th>\n",
       "    </tr>\n",
       "  </thead>\n",
       "  <tbody>\n",
       "    <tr>\n",
       "      <th>2020-01-31</th>\n",
       "      <td>-1.993959</td>\n",
       "      <td>1.507065</td>\n",
       "      <td>1.735092</td>\n",
       "      <td>-1.690061</td>\n",
       "      <td>3.0</td>\n",
       "    </tr>\n",
       "    <tr>\n",
       "      <th>2020-02-29</th>\n",
       "      <td>-1.507149</td>\n",
       "      <td>-0.249720</td>\n",
       "      <td>0.522675</td>\n",
       "      <td>3.649258</td>\n",
       "      <td>0.0</td>\n",
       "    </tr>\n",
       "    <tr>\n",
       "      <th>2020-03-31</th>\n",
       "      <td>-0.202538</td>\n",
       "      <td>-0.265709</td>\n",
       "      <td>-1.367536</td>\n",
       "      <td>-0.645462</td>\n",
       "      <td>0.0</td>\n",
       "    </tr>\n",
       "    <tr>\n",
       "      <th>2020-04-30</th>\n",
       "      <td>0.125077</td>\n",
       "      <td>-0.745277</td>\n",
       "      <td>-0.777247</td>\n",
       "      <td>-0.387858</td>\n",
       "      <td>0.0</td>\n",
       "    </tr>\n",
       "    <tr>\n",
       "      <th>2020-05-31</th>\n",
       "      <td>0.617653</td>\n",
       "      <td>-1.000964</td>\n",
       "      <td>-1.871742</td>\n",
       "      <td>-1.896549</td>\n",
       "      <td>0.0</td>\n",
       "    </tr>\n",
       "    <tr>\n",
       "      <th>2020-06-30</th>\n",
       "      <td>-1.287447</td>\n",
       "      <td>-0.032961</td>\n",
       "      <td>-0.434256</td>\n",
       "      <td>-0.258074</td>\n",
       "      <td>0.0</td>\n",
       "    </tr>\n",
       "    <tr>\n",
       "      <th>2020-07-31</th>\n",
       "      <td>0.444910</td>\n",
       "      <td>0.834490</td>\n",
       "      <td>-1.095043</td>\n",
       "      <td>0.328691</td>\n",
       "      <td>0.0</td>\n",
       "    </tr>\n",
       "    <tr>\n",
       "      <th>2020-08-31</th>\n",
       "      <td>0.748235</td>\n",
       "      <td>1.664320</td>\n",
       "      <td>2.035066</td>\n",
       "      <td>-0.043713</td>\n",
       "      <td>0.0</td>\n",
       "    </tr>\n",
       "    <tr>\n",
       "      <th>2020-09-30</th>\n",
       "      <td>0.455117</td>\n",
       "      <td>0.815735</td>\n",
       "      <td>1.282019</td>\n",
       "      <td>-0.754472</td>\n",
       "      <td>0.0</td>\n",
       "    </tr>\n",
       "    <tr>\n",
       "      <th>2020-10-31</th>\n",
       "      <td>0.764048</td>\n",
       "      <td>0.335829</td>\n",
       "      <td>-1.914312</td>\n",
       "      <td>1.501019</td>\n",
       "      <td>0.0</td>\n",
       "    </tr>\n",
       "    <tr>\n",
       "      <th>2020-11-30</th>\n",
       "      <td>-1.331070</td>\n",
       "      <td>-0.151336</td>\n",
       "      <td>1.214257</td>\n",
       "      <td>-1.195149</td>\n",
       "      <td>0.0</td>\n",
       "    </tr>\n",
       "    <tr>\n",
       "      <th>2020-12-31</th>\n",
       "      <td>1.000000</td>\n",
       "      <td>-0.669359</td>\n",
       "      <td>-0.442463</td>\n",
       "      <td>0.231521</td>\n",
       "      <td>0.0</td>\n",
       "    </tr>\n",
       "  </tbody>\n",
       "</table>\n",
       "</div>"
      ],
      "text/plain": [
       "                   A         B         C         D    E\n",
       "2020-01-31 -1.993959  1.507065  1.735092 -1.690061  3.0\n",
       "2020-02-29 -1.507149 -0.249720  0.522675  3.649258  0.0\n",
       "2020-03-31 -0.202538 -0.265709 -1.367536 -0.645462  0.0\n",
       "2020-04-30  0.125077 -0.745277 -0.777247 -0.387858  0.0\n",
       "2020-05-31  0.617653 -1.000964 -1.871742 -1.896549  0.0\n",
       "2020-06-30 -1.287447 -0.032961 -0.434256 -0.258074  0.0\n",
       "2020-07-31  0.444910  0.834490 -1.095043  0.328691  0.0\n",
       "2020-08-31  0.748235  1.664320  2.035066 -0.043713  0.0\n",
       "2020-09-30  0.455117  0.815735  1.282019 -0.754472  0.0\n",
       "2020-10-31  0.764048  0.335829 -1.914312  1.501019  0.0\n",
       "2020-11-30 -1.331070 -0.151336  1.214257 -1.195149  0.0\n",
       "2020-12-31  1.000000 -0.669359 -0.442463  0.231521  0.0"
      ]
     },
     "execution_count": 11,
     "metadata": {},
     "output_type": "execute_result"
    }
   ],
   "source": [
    "#------缺失值处理\n",
    "df1 = df.reindex(columns=list(df.columns) + ['E'])\n",
    "df1\n",
    "df1.iat[0, 4] = 3  \n",
    "# pd.isnull(df1)\n",
    "# df1.dropna()\n",
    "df1.fillna(0)"
   ]
  },
  {
   "cell_type": "code",
   "execution_count": 12,
   "metadata": {},
   "outputs": [
    {
     "data": {
      "text/plain": [
       "<Figure size 432x288 with 0 Axes>"
      ]
     },
     "metadata": {},
     "output_type": "display_data"
    },
    {
     "name": "stderr",
     "output_type": "stream",
     "text": [
      "C:\\software\\anacoda38\\lib\\site-packages\\matplotlib\\backends\\backend_agg.py:238: RuntimeWarning: Glyph 8722 missing from current font.\n",
      "  font.set_text(s, 0.0, flags=flags)\n",
      "C:\\software\\anacoda38\\lib\\site-packages\\matplotlib\\backends\\backend_agg.py:201: RuntimeWarning: Glyph 8722 missing from current font.\n",
      "  font.set_text(s, 0, flags=flags)\n"
     ]
    },
    {
     "data": {
      "image/png": "[encoded data removed]",
      "text/plain": [
       "<Figure size 432x288 with 1 Axes>"
      ]
     },
     "metadata": {
      "needs_background": "light"
     },
     "output_type": "display_data"
    }
   ],
   "source": [
    "from  matplotlib import pyplot as plt\n",
    "%matplotlib inline\n",
    "df = pd.DataFrame(np.random.randn(1000, 2), columns=['B', 'C']).cumsum()\n",
    "df['A'] = pd.Series(list(range(len(df))))\n",
    "plt.figure()\n",
    "df.plot(x='A')\n",
    "plt.show()"
   ]
  },
  {
   "cell_type": "code",
   "execution_count": 13,
   "metadata": {},
   "outputs": [
    {
     "data": {
      "text/plain": [
       "<AxesSubplot:>"
      ]
     },
     "execution_count": 13,
     "metadata": {},
     "output_type": "execute_result"
    },
    {
     "data": {
      "image/png": "[encoded data removed]",
      "text/plain": [
       "<Figure size 432x288 with 1 Axes>"
      ]
     },
     "metadata": {
      "needs_background": "light"
     },
     "output_type": "display_data"
    }
   ],
   "source": [
    "df = pd.DataFrame(np.random.rand(10, 4), index=range(10,110,10),columns=['a', 'b', 'c', 'd'])\n",
    "df.plot(kind='bar')"
   ]
  },
  {
   "cell_type": "code",
   "execution_count": 14,
   "metadata": {},
   "outputs": [
    {
     "data": {
      "text/html": [
       "<div>\n",
       "<style scoped>\n",
       "    .dataframe tbody tr th:only-of-type {\n",
       "        vertical-align: middle;\n",
       "    }\n",
       "\n",
       "    .dataframe tbody tr th {\n",
       "        vertical-align: top;\n",
       "    }\n",
       "\n",
       "    .dataframe thead th {\n",
       "        text-align: right;\n",
       "    }\n",
       "</style>\n",
       "<table border=\"1\" class=\"dataframe\">\n",
       "  <thead>\n",
       "    <tr style=\"text-align: right;\">\n",
       "      <th></th>\n",
       "      <th>序号</th>\n",
       "      <th>姓名</th>\n",
       "      <th>平时成绩</th>\n",
       "      <th>实验成绩</th>\n",
       "      <th>期末成绩</th>\n",
       "    </tr>\n",
       "  </thead>\n",
       "  <tbody>\n",
       "    <tr>\n",
       "      <th>0</th>\n",
       "      <td>1</td>\n",
       "      <td>张三</td>\n",
       "      <td>95.0</td>\n",
       "      <td>A</td>\n",
       "      <td>81.0</td>\n",
       "    </tr>\n",
       "    <tr>\n",
       "      <th>1</th>\n",
       "      <td>2</td>\n",
       "      <td>李四</td>\n",
       "      <td>94.0</td>\n",
       "      <td>B</td>\n",
       "      <td>60.0</td>\n",
       "    </tr>\n",
       "    <tr>\n",
       "      <th>2</th>\n",
       "      <td>3</td>\n",
       "      <td>王五</td>\n",
       "      <td>95.0</td>\n",
       "      <td>C</td>\n",
       "      <td>87.0</td>\n",
       "    </tr>\n",
       "    <tr>\n",
       "      <th>3</th>\n",
       "      <td>4</td>\n",
       "      <td>马七</td>\n",
       "      <td>97.0</td>\n",
       "      <td>D</td>\n",
       "      <td>75.0</td>\n",
       "    </tr>\n",
       "    <tr>\n",
       "      <th>4</th>\n",
       "      <td>5</td>\n",
       "      <td>梦雪</td>\n",
       "      <td>97.0</td>\n",
       "      <td>A</td>\n",
       "      <td>63.0</td>\n",
       "    </tr>\n",
       "    <tr>\n",
       "      <th>5</th>\n",
       "      <td>6</td>\n",
       "      <td>樱花</td>\n",
       "      <td>94.0</td>\n",
       "      <td>A</td>\n",
       "      <td>66.0</td>\n",
       "    </tr>\n",
       "    <tr>\n",
       "      <th>6</th>\n",
       "      <td>7</td>\n",
       "      <td>杏子</td>\n",
       "      <td>94.0</td>\n",
       "      <td>A</td>\n",
       "      <td>28.0</td>\n",
       "    </tr>\n",
       "    <tr>\n",
       "      <th>7</th>\n",
       "      <td>8</td>\n",
       "      <td>天涯</td>\n",
       "      <td>99.0</td>\n",
       "      <td>A</td>\n",
       "      <td>76.0</td>\n",
       "    </tr>\n",
       "    <tr>\n",
       "      <th>8</th>\n",
       "      <td>9</td>\n",
       "      <td>孔维</td>\n",
       "      <td>94.0</td>\n",
       "      <td>B</td>\n",
       "      <td>84.0</td>\n",
       "    </tr>\n",
       "    <tr>\n",
       "      <th>9</th>\n",
       "      <td>10</td>\n",
       "      <td>赵四</td>\n",
       "      <td>95.0</td>\n",
       "      <td>D</td>\n",
       "      <td>86.0</td>\n",
       "    </tr>\n",
       "    <tr>\n",
       "      <th>10</th>\n",
       "      <td>11</td>\n",
       "      <td>孙二</td>\n",
       "      <td>100.0</td>\n",
       "      <td>C</td>\n",
       "      <td>60.0</td>\n",
       "    </tr>\n",
       "    <tr>\n",
       "      <th>12</th>\n",
       "      <td>13</td>\n",
       "      <td>太良</td>\n",
       "      <td>98.0</td>\n",
       "      <td>D</td>\n",
       "      <td>83.0</td>\n",
       "    </tr>\n",
       "    <tr>\n",
       "      <th>13</th>\n",
       "      <td>14</td>\n",
       "      <td>丁云</td>\n",
       "      <td>95.0</td>\n",
       "      <td>D</td>\n",
       "      <td>83.0</td>\n",
       "    </tr>\n",
       "    <tr>\n",
       "      <th>14</th>\n",
       "      <td>15</td>\n",
       "      <td>淑萍</td>\n",
       "      <td>98.0</td>\n",
       "      <td>D</td>\n",
       "      <td>80.0</td>\n",
       "    </tr>\n",
       "    <tr>\n",
       "      <th>15</th>\n",
       "      <td>16</td>\n",
       "      <td>溪美</td>\n",
       "      <td>98.0</td>\n",
       "      <td>C</td>\n",
       "      <td>53.0</td>\n",
       "    </tr>\n",
       "    <tr>\n",
       "      <th>16</th>\n",
       "      <td>17</td>\n",
       "      <td>泰山</td>\n",
       "      <td>96.0</td>\n",
       "      <td>A</td>\n",
       "      <td>67.0</td>\n",
       "    </tr>\n",
       "    <tr>\n",
       "      <th>18</th>\n",
       "      <td>19</td>\n",
       "      <td>梅六</td>\n",
       "      <td>98.0</td>\n",
       "      <td>B</td>\n",
       "      <td>68.0</td>\n",
       "    </tr>\n",
       "    <tr>\n",
       "      <th>19</th>\n",
       "      <td>20</td>\n",
       "      <td>云霞</td>\n",
       "      <td>96.0</td>\n",
       "      <td>B</td>\n",
       "      <td>85.0</td>\n",
       "    </tr>\n",
       "  </tbody>\n",
       "</table>\n",
       "</div>"
      ],
      "text/plain": [
       "    序号  姓名   平时成绩 实验成绩  期末成绩\n",
       "0    1  张三   95.0    A  81.0\n",
       "1    2  李四   94.0    B  60.0\n",
       "2    3  王五   95.0    C  87.0\n",
       "3    4  马七   97.0    D  75.0\n",
       "4    5  梦雪   97.0    A  63.0\n",
       "5    6  樱花   94.0    A  66.0\n",
       "6    7  杏子   94.0    A  28.0\n",
       "7    8  天涯   99.0    A  76.0\n",
       "8    9  孔维   94.0    B  84.0\n",
       "9   10  赵四   95.0    D  86.0\n",
       "10  11  孙二  100.0    C  60.0\n",
       "12  13  太良   98.0    D  83.0\n",
       "13  14  丁云   95.0    D  83.0\n",
       "14  15  淑萍   98.0    D  80.0\n",
       "15  16  溪美   98.0    C  53.0\n",
       "16  17  泰山   96.0    A  67.0\n",
       "18  19  梅六   98.0    B  68.0\n",
       "19  20  云霞   96.0    B  85.0"
      ]
     },
     "execution_count": 14,
     "metadata": {},
     "output_type": "execute_result"
    }
   ],
   "source": [
    "#----读取表格数据\n",
    "df = pd.read_csv('18.student_score.csv')\n",
    "df.dropna()"
   ]
  },
  {
   "cell_type": "code",
   "execution_count": null,
   "metadata": {},
   "outputs": [],
   "source": []
  }
 ],
 "metadata": {
  "kernelspec": {
   "display_name": "Python 3",
   "language": "python",
   "name": "python3"
  },
  "language_info": {
   "codemirror_mode": {
    "name": "ipython",
    "version": 3
   },
   "file_extension": ".py",
   "mimetype": "text/x-python",
   "name": "python",
   "nbconvert_exporter": "python",
   "pygments_lexer": "ipython3",
   "version": "3.8.5"
  }
 },
 "nbformat": 4,
 "nbformat_minor": 5
}
