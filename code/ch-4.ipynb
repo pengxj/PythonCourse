{
 "cells": [
  {
   "cell_type": "markdown",
   "metadata": {},
   "source": [
    "## 字符编码"
   ]
  },
  {
   "cell_type": "code",
   "execution_count": 4,
   "metadata": {},
   "outputs": [
    {
     "name": "stdout",
     "output_type": "stream",
     "text": [
      "b'python\\xe7\\xa8\\x8b\\xe5\\xba\\x8f'\n"
     ]
    },
    {
     "data": {
      "text/plain": [
       "'Python可以这样学'"
      ]
     },
     "execution_count": 4,
     "metadata": {},
     "output_type": "execute_result"
    }
   ],
   "source": [
    "print(\"python程序\".encode('utf8'))\n",
    "'Python可以这样学'.encode('utf8').decode('utf8')"
   ]
  },
  {
   "cell_type": "markdown",
   "metadata": {},
   "source": [
    "## 字符串格式化"
   ]
  },
  {
   "cell_type": "code",
   "execution_count": 12,
   "metadata": {},
   "outputs": [
    {
     "name": "stdout",
     "output_type": "stream",
     "text": [
      "0005\n",
      "5.0000\n",
      "0005.png\n",
      "5.0000\n",
      "0005.jpg\n",
      "5.0000\n"
     ]
    },
    {
     "data": {
      "text/plain": [
       "'0005 is 4.0000'"
      ]
     },
     "execution_count": 12,
     "metadata": {},
     "output_type": "execute_result"
    }
   ],
   "source": [
    "print(\"%04d\"%5)\n",
    "print(\"%.4f\"%5)\n",
    "\n",
    "print(\"{:04d}.png\".format(5))\n",
    "print(\"{:.4f}\".format(5))\n",
    "\n",
    "aa = 5\n",
    "print(f'{aa:04d}.jpg')\n",
    "print(f'{aa:.4f}')\n",
    "\n",
    "ss = \"{:04d} is {:.4f}\"\n",
    "ss.format(5, 4)\n"
   ]
  },
  {
   "cell_type": "markdown",
   "metadata": {},
   "source": [
    "## 字符串常用方法"
   ]
  },
  {
   "cell_type": "code",
   "execution_count": 1,
   "metadata": {},
   "outputs": [
    {
     "name": "stdout",
     "output_type": "stream",
     "text": [
      "(0, '\\n')(1, '东')(2, '边')(3, '来')(4, '个')(5, '小')(6, '朋')(7, '友')(8, '叫')(10, '松')(11, '，')(12, '手')(13, '里')(14, '拿')(15, '着')(16, '一')(17, '捆')(18, '葱')(19, '。')(21, '西')(30, '丛')(37, '闹')(38, '钟')(47, '得')(50, '掉')(51, '在')(52, '地')(53, '上')(55, '些')(61, '忙')(62, '放')(65, '去')(66, '拾')(69, '帮')(70, '助')(74, '紧')(76, '.')(80, '夸')(83, '像')(84, '雷')(85, '锋')(89, '说')(92, '爱')(93, '劳')(94, '动')"
     ]
    }
   ],
   "source": [
    "text = '''\n",
    "东边来个小朋友叫小松，手里拿着一捆葱。\n",
    "西边来个小朋友叫小丛，手里拿着小闹钟。\n",
    "小松手里葱捆得松，掉在地上一些葱。\n",
    "小丛忙放闹钟去拾葱，帮助小松捆紧葱.\n",
    "小松夸小丛像雷锋，小丛说小松爱劳动。\n",
    "'''\n",
    "\n",
    "for index, ch in enumerate(text):\n",
    "    if index == text.index(ch):\n",
    "        print((index, ch), end= '')\n"
   ]
  },
  {
   "cell_type": "code",
   "execution_count": 2,
   "metadata": {},
   "outputs": [
    {
     "name": "stdout",
     "output_type": "stream",
     "text": [
      "6\n",
      "6\n"
     ]
    }
   ],
   "source": [
    "s=\"apple,peach,banana,peach,pear\"\n",
    "print(s.find(\"peach\"))\n",
    "print(s.index(\"peach\"))"
   ]
  },
  {
   "cell_type": "code",
   "execution_count": 18,
   "metadata": {},
   "outputs": [
    {
     "name": "stdout",
     "output_type": "stream",
     "text": [
      "请输入数字，用逗号隔开：12,23,45,56\n"
     ]
    },
    {
     "data": {
      "text/plain": [
       "[12, 23, 45, 56]"
      ]
     },
     "execution_count": 18,
     "metadata": {},
     "output_type": "execute_result"
    }
   ],
   "source": [
    "aa = input('请输入数字，用逗号隔开：')\n",
    "list(map(int, aa.split(',',5)))"
   ]
  },
  {
   "cell_type": "code",
   "execution_count": 23,
   "metadata": {},
   "outputs": [
    {
     "data": {
      "text/plain": [
       "'/C:\\\\home\\\\pxj'"
      ]
     },
     "execution_count": 23,
     "metadata": {},
     "output_type": "execute_result"
    }
   ],
   "source": [
    "li = ['a', 'b', 'c']\n",
    "file='_'.join(li)\n",
    "f'{file}.png'\n",
    "import os\n",
    "os.path.join('/C:', 'home','pxj')"
   ]
  },
  {
   "cell_type": "code",
   "execution_count": 24,
   "metadata": {},
   "outputs": [
    {
     "name": "stdout",
     "output_type": "stream",
     "text": [
      "/home/document/abc.png\n"
     ]
    }
   ],
   "source": [
    "ss = '/home/document/abc.jpg'\n",
    "png = ss.replace('.jpg', '.png')\n",
    "print(png)"
   ]
  },
  {
   "cell_type": "code",
   "execution_count": 26,
   "metadata": {},
   "outputs": [
    {
     "name": "stdout",
     "output_type": "stream",
     "text": [
      "12 34 100 100\n"
     ]
    }
   ],
   "source": [
    "line = '12, 34, 100, 100\\n'\n",
    "x, y, w, h = map(int, line.rstrip().split(','))\n",
    "print(x, y, w, h)"
   ]
  },
  {
   "cell_type": "code",
   "execution_count": 27,
   "metadata": {},
   "outputs": [
    {
     "name": "stdout",
     "output_type": "stream",
     "text": [
      "输入表达式：1+2+2*3\n"
     ]
    },
    {
     "data": {
      "text/plain": [
       "9"
      ]
     },
     "execution_count": 27,
     "metadata": {},
     "output_type": "execute_result"
    }
   ],
   "source": [
    "ss = input('输入表达式：')\n",
    "eval(ss)"
   ]
  },
  {
   "cell_type": "code",
   "execution_count": 1,
   "metadata": {},
   "outputs": [
    {
     "name": "stderr",
     "output_type": "stream",
     "text": [
      "Building prefix dict from the default dictionary ...\n",
      "Dumping model to file cache C:\\Users\\xjpen\\AppData\\Local\\Temp\\jieba.cache\n",
      "Loading model cost 0.715 seconds.\n",
      "Prefix dict has been built successfully.\n"
     ]
    },
    {
     "data": {
      "text/plain": [
       "['最后', '检查', ':', ' ', '44', ' ', '分钟', '前未', '保存', '改变']"
      ]
     },
     "execution_count": 1,
     "metadata": {},
     "output_type": "execute_result"
    }
   ],
   "source": [
    "import jieba\n",
    "jieba.lcut(\"最后检查: 44 分钟前未保存改变\")"
   ]
  },
  {
   "cell_type": "code",
   "execution_count": 29,
   "metadata": {},
   "outputs": [
    {
     "name": "stdout",
     "output_type": "stream",
     "text": [
      "不吐不快\n",
      "绘声绘影\n",
      "相亲相爱\n",
      "浩浩荡荡\n",
      "平平安安\n",
      "秀秀气气\n",
      "斯斯文文\n",
      "高高兴兴\n"
     ]
    }
   ],
   "source": [
    "from re import findall\n",
    "\n",
    "text = '''行尸走肉、金蝉脱壳、百里挑一、金玉满堂、\n",
    "背水一战、霸王别姬、天上人间、不吐不快、海阔天空、\n",
    "情非得已、满腹经纶、兵临城下、春暖花开、插翅难逃、\n",
    "黄道吉日、天下无双、偷天换日、两小无猜、卧虎藏龙、\n",
    "珠光宝气、簪缨世族、花花公子、绘声绘影、国色天香、\n",
    "相亲相爱、八仙过海、金玉良缘、掌上明珠、皆大欢喜\\\n",
    "浩浩荡荡、平平安安、秀秀气气、斯斯文文、高高兴兴'''\n",
    "\n",
    "pattern = r'(((.).\\3.)|((.)\\5(.)\\6))'\n",
    "for item in findall(pattern, text):\n",
    "    print(item[0])"
   ]
  },
  {
   "cell_type": "code",
   "execution_count": null,
   "metadata": {},
   "outputs": [],
   "source": []
  }
 ],
 "metadata": {
  "kernelspec": {
   "display_name": "Python 3",
   "language": "python",
   "name": "python3"
  },
  "language_info": {
   "codemirror_mode": {
    "name": "ipython",
    "version": 3
   },
   "file_extension": ".py",
   "mimetype": "text/x-python",
   "name": "python",
   "nbconvert_exporter": "python",
   "pygments_lexer": "ipython3",
   "version": "3.8.5"
  }
 },
 "nbformat": 4,
 "nbformat_minor": 4
}
