{
 "cells": [
  {
   "cell_type": "markdown",
   "metadata": {},
   "source": [
    "# 列表及其操作"
   ]
  },
  {
   "cell_type": "code",
   "execution_count": null,
   "metadata": {},
   "outputs": [],
   "source": [
    "alist = [1, 2, 3, 4]\n",
    "blist = ['a', 'b', 'c']\n",
    "clist = list(range(10))\n",
    "list('hello world')\n",
    "del clist\n",
    "\n",
    "alist = alist + [8] # 涉及复制，不建议\n",
    "alist.append(9)\n",
    "print(id(alist))\n",
    "alist += '1234'\n",
    "print(id(alist))\n",
    "\n",
    "alist.append([5,6])\n",
    "alist.extend([5,6])\n",
    "\n",
    "alist.pop()\n",
    "ret = alist.pop(10)\n",
    "print(ret)\n",
    "alist.remove(5)\n",
    "print(alist.index(3))\n",
    "\n",
    "alist[-1:] = []\n",
    "\n",
    "alist = [1, 2, 3, 4]\n",
    "import random\n",
    "random.shuffle(alist)\n",
    "print(alist)\n",
    "# alist.sort()\n",
    "asort = sorted(alist)\n",
    "asort\n",
    "\n",
    "all([0,1,2,3])\n",
    "any([0,1])\n",
    "\n",
    "alist = 'abcd'\n",
    "len(alist)\n",
    "\n",
    "alist = [1, 2, 3, 4]\n",
    "blist = ['a', 'b', 'c', 'd']\n",
    "for a, b in zip(alist, blist):\n",
    "    print(a,b)\n",
    "    \n",
    "for ind, v in enumerate(blist):\n",
    "    if v=='b':\n",
    "        print(ind)\n",
    "        \n",
    "[2**i for i in range(64)]\n",
    "\n",
    "[p for p in range(2, 100) if 0 not in [p%d for d in range(2, int(p**0.5)+1)]]\n"
   ]
  },
  {
   "cell_type": "markdown",
   "metadata": {},
   "source": [
    "# 元组及其操作"
   ]
  },
  {
   "cell_type": "code",
   "execution_count": null,
   "metadata": {},
   "outputs": [],
   "source": [
    "atuple = (1, 2, 3, 4)\n",
    "btupe = ('a', 'b', 'c')\n",
    "one_tupe = 3,\n",
    "one_tupe\n",
    "x, y, z = 1, 2, 3  \n",
    "v_tuple = (False, 3.5, 'exp')\n",
    "(x,y,z) = v_tuple\n",
    "print(x, y, z)\n",
    "x = [1, 2, 3, 4, 5, 6]\n",
    "x[:1] = map(str, range(5))\n",
    "x"
   ]
  },
  {
   "cell_type": "markdown",
   "metadata": {},
   "source": [
    "# 字典及其操作"
   ]
  },
  {
   "cell_type": "code",
   "execution_count": 62,
   "metadata": {},
   "outputs": [
    {
     "name": "stdout",
     "output_type": "stream",
     "text": [
      "2\n",
      "0 c 3\n",
      "1 z 26\n",
      "2 d 4\n",
      "3 e 5\n",
      "{1: '1', 2: '2', 3: '3', 4: '4'}\n"
     ]
    }
   ],
   "source": [
    "adict = {'a':1, 'b':2, 'c':3}\n",
    "\n",
    "# for ind, (k, v) in enumerate(adict.items()):\n",
    "#     print(ind, k, v)\n",
    "    \n",
    "adict['a'] = 10\n",
    "adict['z'] = 26\n",
    "bdict = {'d':4, 'e':5}\n",
    "adict.update(bdict)\n",
    "del adict['a']\n",
    "bvalue = adict.pop('b')\n",
    "print(bvalue)\n",
    "\n",
    "for ind, (k, v) in enumerate(adict.items()):\n",
    "    print(ind, k, v)\n",
    "    \n",
    "adict = {i:str(i) for i in range(1, 5)}\n",
    "print(adict)"
   ]
  },
  {
   "cell_type": "markdown",
   "metadata": {},
   "source": [
    "# 集合及其操作"
   ]
  },
  {
   "cell_type": "code",
   "execution_count": 63,
   "metadata": {},
   "outputs": [
    {
     "data": {
      "text/plain": [
       "{1, 2, 3}"
      ]
     },
     "execution_count": 63,
     "metadata": {},
     "output_type": "execute_result"
    }
   ],
   "source": [
    "aset = {1, 2, 3}\n",
    "aset"
   ]
  },
  {
   "cell_type": "code",
   "execution_count": 64,
   "metadata": {},
   "outputs": [
    {
     "data": {
      "text/plain": [
       "6"
      ]
     },
     "execution_count": 64,
     "metadata": {},
     "output_type": "execute_result"
    }
   ],
   "source": [
    "b_set = set([0, 1, 2, 3, 0, 1, 2, 3, 7, 8])\n",
    "len(b_set)"
   ]
  },
  {
   "cell_type": "code",
   "execution_count": 71,
   "metadata": {},
   "outputs": [
    {
     "name": "stdout",
     "output_type": "stream",
     "text": [
      "user0 {'film9', 'film1', 'film6', 'film8', 'film3', 'film2'}\n"
     ]
    }
   ],
   "source": [
    "from random import randrange\n",
    "# 其他用户喜欢看的电影清单\n",
    "data = {'user'+str(i):{'film'+str(randrange(1, 10)) for j in range(randrange(15))} for i in range(10)}\n",
    "# print(data)\n",
    "\n",
    "user = {'film1', 'film2', 'film3'}\n",
    "# 查找与待测用户最相似的用户和Ta喜欢看的电影，忽略与待测用户完全一样的用户\n",
    "similarUser, films = max(data.items(), key=lambda item: (item[1]!=user, len(item[1]&user)))\n",
    "print(similarUser, films)"
   ]
  },
  {
   "cell_type": "code",
   "execution_count": null,
   "metadata": {},
   "outputs": [],
   "source": []
  }
 ],
 "metadata": {
  "kernelspec": {
   "display_name": "Python 3",
   "language": "python",
   "name": "python3"
  },
  "language_info": {
   "codemirror_mode": {
    "name": "ipython",
    "version": 3
   },
   "file_extension": ".py",
   "mimetype": "text/x-python",
   "name": "python",
   "nbconvert_exporter": "python",
   "pygments_lexer": "ipython3",
   "version": "3.8.5"
  }
 },
 "nbformat": 4,
 "nbformat_minor": 4
}
