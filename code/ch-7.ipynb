{
 "cells": [
  {
   "cell_type": "markdown",
   "metadata": {},
   "source": [
    "## 文件操作"
   ]
  },
  {
   "cell_type": "code",
   "execution_count": null,
   "metadata": {},
   "outputs": [],
   "source": [
    "#--------打开读取\n",
    "f = open('testfile.txt')# default mode='r'\n",
    "f.seek(2)\n",
    "print(f.read(5))\n",
    "for line in f:\n",
    "    print(line)\n",
    "f.close()\n",
    "f.closed\n",
    "f.name"
   ]
  },
  {
   "cell_type": "code",
   "execution_count": null,
   "metadata": {},
   "outputs": [],
   "source": [
    "#--------打开读取2\n",
    "with open('testfile.txt') as fp:\n",
    "    for line in fp:\n",
    "#         line.rstrip().split(',')\n",
    "        print(line)"
   ]
  },
  {
   "cell_type": "code",
   "execution_count": null,
   "metadata": {},
   "outputs": [],
   "source": [
    "#--------打开读取写入\n",
    "with open('testfile.txt') as fp1, open('testfile2.txt', 'w') as fp2:\n",
    "    fp2.write(fp1.read())"
   ]
  },
  {
   "cell_type": "code",
   "execution_count": null,
   "metadata": {},
   "outputs": [],
   "source": [
    "#-----------json\n",
    "import json\n",
    "with open('test.json', 'w') as fp:\n",
    "    json.dump({\"name\":\"image1.jpg\",\"width\":1920,\"height\":1080}, fp)\n",
    "    \n",
    "with open('test.json') as fp:    \n",
    "#     print(json.load(fp))\n",
    "    res = json.load(fp)\n",
    "res['name']"
   ]
  },
  {
   "cell_type": "code",
   "execution_count": null,
   "metadata": {},
   "outputs": [],
   "source": [
    "#-------pickle保存\n",
    "import pickle\n",
    "\n",
    "i = 13000000\n",
    "a = 99.056\n",
    "s = '中国人民123abc'\n",
    "lst = [[1, 2, 3], [4, 5, 6], [7, 8, 9]]\n",
    "tu = (-5, 10, 8)\n",
    "coll = {4, 5, 6}\n",
    "dic = {'a':'apple', 'b':'banana', 'g':'grape', 'o':'orange'}\n",
    "data = [i, a, s, lst, tu, coll, dic]\n",
    "\n",
    "lst = [0,0.5,0.5,0.3,0.2,1,0.3,0.4,0.5,0.5]\n",
    "\n",
    "with open('sample_pickle.dat', 'wb') as f:\n",
    "#     pickle.dump(lst, f)\n",
    "     pickle.dump(len(data), f) #表示后面将要写入的数据个数\n",
    "     for item in data:\n",
    "          pickle.dump(item, f)"
   ]
  },
  {
   "cell_type": "code",
   "execution_count": null,
   "metadata": {},
   "outputs": [],
   "source": [
    "#---------pickle读取\n",
    "with open('sample_pickle.dat', 'rb') as f:\n",
    "#     print(pickle.load(f))\n",
    "    n = pickle.load(f)        #读出文件的数据个数\n",
    "    for i in range(n):\n",
    "        x = pickle.load(f)\n",
    "        print(x)\n"
   ]
  },
  {
   "cell_type": "code",
   "execution_count": null,
   "metadata": {},
   "outputs": [],
   "source": [
    "import os.path as osp\n",
    "\n",
    "apath = 'C:\\A'\n",
    "bpath = 'B\\c.txt'\n",
    "c = osp.join(apath, bpath)\n",
    "print(osp.join(apath, bpath))\n",
    "print(osp.basename(c))\n",
    "print(osp.dirname(c))"
   ]
  },
  {
   "cell_type": "code",
   "execution_count": null,
   "metadata": {},
   "outputs": [],
   "source": [
    "import os\n",
    "given_root=r'C:\\Users\\xjpen'\n",
    "for root, dirs, files in os.walk(given_root):\n",
    "#     for d in dirs: \n",
    "#         print(os.path.join(root, d)) #获取完整路径\n",
    "    for f in files: \n",
    "        print(os.path.join(root, f)) #获取文件绝对路径\n"
   ]
  },
  {
   "cell_type": "code",
   "execution_count": null,
   "metadata": {},
   "outputs": [],
   "source": []
  }
 ],
 "metadata": {
  "kernelspec": {
   "display_name": "Python 3",
   "language": "python",
   "name": "python3"
  },
  "language_info": {
   "codemirror_mode": {
    "name": "ipython",
    "version": 3
   },
   "file_extension": ".py",
   "mimetype": "text/x-python",
   "name": "python",
   "nbconvert_exporter": "python",
   "pygments_lexer": "ipython3",
   "version": "3.8.5"
  }
 },
 "nbformat": 4,
 "nbformat_minor": 5
}
