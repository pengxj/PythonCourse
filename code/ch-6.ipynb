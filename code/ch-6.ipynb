{
 "cells": [
  {
   "cell_type": "markdown",
   "metadata": {},
   "source": [
    "## Python面向对象程序设计"
   ]
  },
  {
   "cell_type": "code",
   "execution_count": 10,
   "metadata": {},
   "outputs": [
    {
     "name": "stdout",
     "output_type": "stream",
     "text": [
      "大学名字：SZTU\n",
      "大学地址：Shenzhen\n",
      " Ruan\n",
      "Shenzhen\n"
     ]
    },
    {
     "data": {
      "text/plain": [
       "True"
      ]
     },
     "execution_count": 10,
     "metadata": {},
     "output_type": "execute_result"
    }
   ],
   "source": [
    "#---------类定义和使用\n",
    "class University: #()\n",
    "    president = 'Ruan'\n",
    "    def __init__(self, name):\n",
    "        self._name = name\n",
    "        self.address = 'Shenzhen'\n",
    "    def info(self):\n",
    "        print(f'大学名字：{self._name}\\n大学地址：{self.address}\\n {self.president}')\n",
    "\n",
    "un = University('SZTU')\n",
    "un.info()\n",
    "# print(University.address)\n",
    "print(un.address)\n",
    "isinstance(un, University)"
   ]
  },
  {
   "cell_type": "code",
   "execution_count": 7,
   "metadata": {},
   "outputs": [
    {
     "name": "stdout",
     "output_type": "stream",
     "text": [
      "3000\n",
      "大学名字：SZU\n",
      "大学地址：Shenzhen\n",
      " Ruan\n"
     ]
    }
   ],
   "source": [
    "#--------动态增加属性和方法\n",
    "import types\n",
    "un = University('SZTU')\n",
    "un.num_students = 3000\n",
    "print(un.num_students)\n",
    "def set_name(self, name):\n",
    "    self._name = name\n",
    "un.set_name = types.MethodType(set_name, un) #绑定成员方法\n",
    "un.set_name('SZU')\n",
    "un.info()"
   ]
  },
  {
   "cell_type": "code",
   "execution_count": null,
   "metadata": {},
   "outputs": [],
   "source": [
    "#---------函数和成员方法区别\n",
    "def set_address(self, address):\n",
    "    self.address = address\n",
    "    \n",
    "un.set_address = set_address\n",
    "un.set_address(un,'Shenzhen Pingshan') #\n",
    "un.info()\n"
   ]
  },
  {
   "cell_type": "markdown",
   "metadata": {},
   "source": [
    "### 构造函数和析构函数"
   ]
  },
  {
   "cell_type": "code",
   "execution_count": 3,
   "metadata": {},
   "outputs": [
    {
     "name": "stdout",
     "output_type": "stream",
     "text": [
      "A.init执行\n",
      "A.del执行\n"
     ]
    }
   ],
   "source": [
    "class A:\n",
    "    def __init__(self):\n",
    "        print('A.init执行')\n",
    "        \n",
    "    def __del__(self):\n",
    "        print('A.del执行')\n",
    "        \n",
    "a = A()#试着在命令行或者pycharm执行\n",
    "del a"
   ]
  },
  {
   "cell_type": "code",
   "execution_count": 7,
   "metadata": {},
   "outputs": [
    {
     "name": "stdout",
     "output_type": "stream",
     "text": [
      "[7, 9, 11, 13, 15]\n"
     ]
    }
   ],
   "source": [
    "#-----------类的特殊方法\n",
    "class MyArray:\n",
    "    def __init__(self, *args):\n",
    "        self.__value = list(args)\n",
    "    def __add__(self, n):\n",
    "        if isinstance(n, MyArray) and len(n.__value)==len(self.__value):\n",
    "            c = MyArray()\n",
    "            c.__value = list(map(lambda x,y:x+y, self.__value, n.__value))\n",
    "            return c\n",
    "        else:\n",
    "            c = MyArray()\n",
    "            c.__value = [item+n for item in self.__value]\n",
    "            return c\n",
    "    def __str__(self):\n",
    "        return str(self.__value)\n",
    "a = MyArray(1,2,3,4,5)\n",
    "b = MyArray(6,7,8,9,10)\n",
    "print(a+b)\n",
    "            "
   ]
  },
  {
   "cell_type": "code",
   "execution_count": 8,
   "metadata": {},
   "outputs": [],
   "source": [
    "class myopen:\n",
    "    def __init__(self, fileName, mode='r'):\n",
    "        self.fp = open(fileName,mode)\n",
    "        \n",
    "    def __enter__(self):\n",
    "        # with关键字进入的是fp\n",
    "        return self.fp\n",
    "    \n",
    "    def __exit__(self, exceptionType, exceptionVal, trace):\n",
    "        self.fp.close()\n",
    "        \n",
    "with myopen('test.txt', mode='w') as f:\n",
    "    f.write('hello world.')"
   ]
  },
  {
   "cell_type": "code",
   "execution_count": 12,
   "metadata": {},
   "outputs": [
    {
     "name": "stdout",
     "output_type": "stream",
     "text": [
      "SZTU\n"
     ]
    }
   ],
   "source": [
    "#-----------类的继承使用\n",
    "class SZTU(University):\n",
    "    def __init__(self,name='SZTU'):\n",
    "        super(SZTU, self).__init__(name)\n",
    "        \n",
    "    def get_name(self):\n",
    "        print(self._name) #继承了_name\n",
    "\n",
    "sztu = SZTU()\n",
    "sztu.get_name()\n",
    "    "
   ]
  },
  {
   "cell_type": "code",
   "execution_count": null,
   "metadata": {},
   "outputs": [],
   "source": []
  }
 ],
 "metadata": {
  "kernelspec": {
   "display_name": "Python 3",
   "language": "python",
   "name": "python3"
  },
  "language_info": {
   "codemirror_mode": {
    "name": "ipython",
    "version": 3
   },
   "file_extension": ".py",
   "mimetype": "text/x-python",
   "name": "python",
   "nbconvert_exporter": "python",
   "pygments_lexer": "ipython3",
   "version": "3.8.5"
  }
 },
 "nbformat": 4,
 "nbformat_minor": 5
}
